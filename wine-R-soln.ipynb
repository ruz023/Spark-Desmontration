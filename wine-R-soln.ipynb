{
 "cells": [
  {
   "cell_type": "markdown",
   "metadata": {},
   "source": [
    "## SparkR - Classification on Wine Data\n",
    "#### Adapted from https://blog.learningtree.com/machine-learning-using-spark-r/"
   ]
  },
  {
   "cell_type": "code",
   "execution_count": null,
   "metadata": {
    "scrolled": true
   },
   "outputs": [],
   "source": [
    "# Load SparkR library\n",
    "library(SparkR, lib.loc = c(file.path(Sys.getenv(\"SPARK_HOME\"), \"R\", \"lib\")))"
   ]
  },
  {
   "cell_type": "code",
   "execution_count": null,
   "metadata": {},
   "outputs": [],
   "source": [
    "# Start Spark session\n",
    "sparkR.session(master=\"local[*]\", sparkConfig=list(spark.driver.memory=\"2g\"))"
   ]
  },
  {
   "cell_type": "code",
   "execution_count": null,
   "metadata": {},
   "outputs": [],
   "source": [
    "# Read data into a Spark dataframe\n",
    "sdf <- read.df(\"/srv/jupyterhub/read-only/data/winequality-white.csv\", \"csv\", header=\"true\", inferSchema=\"true\") "
   ]
  },
  {
   "cell_type": "code",
   "execution_count": 7,
   "metadata": {},
   "outputs": [
    {
     "data": {
      "text/plain": [
       "SparkDataFrame[id:int, fixed_acidity:double, volatile_acidity:double, citric_acid:double, residual_sugar:double, chlorides:double, free_sulfur_dioxide:double, total_sulfur_dioxide:double, density:double, pH:double, sulphates:double, alcohol:double, taste:string]"
      ]
     },
     "metadata": {},
     "output_type": "display_data"
    }
   ],
   "source": [
    "# Cache dataframe\n",
    "cache(sdf)"
   ]
  },
  {
   "cell_type": "code",
   "execution_count": 8,
   "metadata": {},
   "outputs": [
    {
     "data": {
      "text/plain": [
       "StructType\n",
       "|-name = \"id\", type = \"IntegerType\", nullable = TRUE\n",
       "|-name = \"fixed_acidity\", type = \"DoubleType\", nullable = TRUE\n",
       "|-name = \"volatile_acidity\", type = \"DoubleType\", nullable = TRUE\n",
       "|-name = \"citric_acid\", type = \"DoubleType\", nullable = TRUE\n",
       "|-name = \"residual_sugar\", type = \"DoubleType\", nullable = TRUE\n",
       "|-name = \"chlorides\", type = \"DoubleType\", nullable = TRUE\n",
       "|-name = \"free_sulfur_dioxide\", type = \"DoubleType\", nullable = TRUE\n",
       "|-name = \"total_sulfur_dioxide\", type = \"DoubleType\", nullable = TRUE\n",
       "|-name = \"density\", type = \"DoubleType\", nullable = TRUE\n",
       "|-name = \"pH\", type = \"DoubleType\", nullable = TRUE\n",
       "|-name = \"sulphates\", type = \"DoubleType\", nullable = TRUE\n",
       "|-name = \"alcohol\", type = \"DoubleType\", nullable = TRUE\n",
       "|-name = \"taste\", type = \"StringType\", nullable = TRUE"
      ]
     },
     "metadata": {},
     "output_type": "display_data"
    }
   ],
   "source": [
    "# Examine schema\n",
    "schema(sdf)"
   ]
  },
  {
   "cell_type": "code",
   "execution_count": 9,
   "metadata": {},
   "outputs": [
    {
     "data": {
      "text/html": [
       "<ol class=list-inline>\n",
       "\t<li>3406</li>\n",
       "\t<li>13</li>\n",
       "</ol>\n"
      ],
      "text/latex": [
       "\\begin{enumerate*}\n",
       "\\item 3406\n",
       "\\item 13\n",
       "\\end{enumerate*}\n"
      ],
      "text/markdown": [
       "1. 3406\n",
       "2. 13\n",
       "\n",
       "\n"
      ],
      "text/plain": [
       "[1] 3406   13"
      ]
     },
     "metadata": {},
     "output_type": "display_data"
    },
    {
     "data": {
      "text/html": [
       "<ol class=list-inline>\n",
       "\t<li>1492</li>\n",
       "\t<li>13</li>\n",
       "</ol>\n"
      ],
      "text/latex": [
       "\\begin{enumerate*}\n",
       "\\item 1492\n",
       "\\item 13\n",
       "\\end{enumerate*}\n"
      ],
      "text/markdown": [
       "1. 1492\n",
       "2. 13\n",
       "\n",
       "\n"
      ],
      "text/plain": [
       "[1] 1492   13"
      ]
     },
     "metadata": {},
     "output_type": "display_data"
    }
   ],
   "source": [
    "# Split into train & test sets\n",
    "seed <- 12345\n",
    "train_df <- sample(sdf, withReplacement=FALSE, fraction=0.7, seed=seed)\n",
    "test_df <- except (sdf, train_df)\n",
    "dim(train_df)\n",
    "dim(test_df)"
   ]
  },
  {
   "cell_type": "code",
   "execution_count": 10,
   "metadata": {
    "scrolled": true
   },
   "outputs": [
    {
     "data": {
      "text/html": [
       "<dl>\n",
       "\t<dt>$formula</dt>\n",
       "\t\t<dd>'taste ~ .'</dd>\n",
       "\t<dt>$numFeatures</dt>\n",
       "\t\t<dd>12</dd>\n",
       "\t<dt>$features</dt>\n",
       "\t\t<dd><ol>\n",
       "\t<li>'id'</li>\n",
       "\t<li>'fixed_acidity'</li>\n",
       "\t<li>'volatile_acidity'</li>\n",
       "\t<li>'citric_acid'</li>\n",
       "\t<li>'residual_sugar'</li>\n",
       "\t<li>'chlorides'</li>\n",
       "\t<li>'free_sulfur_dioxide'</li>\n",
       "\t<li>'total_sulfur_dioxide'</li>\n",
       "\t<li>'density'</li>\n",
       "\t<li>'pH'</li>\n",
       "\t<li>'sulphates'</li>\n",
       "\t<li>'alcohol'</li>\n",
       "</ol>\n",
       "</dd>\n",
       "\t<dt>$featureImportances</dt>\n",
       "\t\t<dd>'(12,[0,1,2,3,4,5,6,7,8,9,10,11],[0.05348620482576279,0.027331145746754753,0.1675110741299245,0.034403143140078946,0.04948121675107753,0.1250201192570685,0.06467665652941516,0.029478222935983192,0.12118122533669537,0.0258949338926728,0.01944352818537939,0.282092529269187])'</dd>\n",
       "\t<dt>$maxDepth</dt>\n",
       "\t\t<dd>5</dd>\n",
       "\t<dt>$numTrees</dt>\n",
       "\t\t<dd>30</dd>\n",
       "</dl>\n"
      ],
      "text/latex": [
       "\\begin{description}\n",
       "\\item[\\$formula] 'taste \\textasciitilde{} .'\n",
       "\\item[\\$numFeatures] 12\n",
       "\\item[\\$features] \\begin{enumerate}\n",
       "\\item 'id'\n",
       "\\item 'fixed\\_acidity'\n",
       "\\item 'volatile\\_acidity'\n",
       "\\item 'citric\\_acid'\n",
       "\\item 'residual\\_sugar'\n",
       "\\item 'chlorides'\n",
       "\\item 'free\\_sulfur\\_dioxide'\n",
       "\\item 'total\\_sulfur\\_dioxide'\n",
       "\\item 'density'\n",
       "\\item 'pH'\n",
       "\\item 'sulphates'\n",
       "\\item 'alcohol'\n",
       "\\end{enumerate}\n",
       "\n",
       "\\item[\\$featureImportances] '(12,{[}0,1,2,3,4,5,6,7,8,9,10,11{]},{[}0.05348620482576279,0.027331145746754753,0.1675110741299245,0.034403143140078946,0.04948121675107753,0.1250201192570685,0.06467665652941516,0.029478222935983192,0.12118122533669537,0.0258949338926728,0.01944352818537939,0.282092529269187{]})'\n",
       "\\item[\\$maxDepth] 5\n",
       "\\item[\\$numTrees] 30\n",
       "\\end{description}\n"
      ],
      "text/markdown": [
       "$formula\n",
       ":   'taste ~ .'\n",
       "$numFeatures\n",
       ":   12\n",
       "$features\n",
       ":   1. 'id'\n",
       "2. 'fixed_acidity'\n",
       "3. 'volatile_acidity'\n",
       "4. 'citric_acid'\n",
       "5. 'residual_sugar'\n",
       "6. 'chlorides'\n",
       "7. 'free_sulfur_dioxide'\n",
       "8. 'total_sulfur_dioxide'\n",
       "9. 'density'\n",
       "10. 'pH'\n",
       "11. 'sulphates'\n",
       "12. 'alcohol'\n",
       "\n",
       "\n",
       "\n",
       "$featureImportances\n",
       ":   '(12,[0,1,2,3,4,5,6,7,8,9,10,11],[0.05348620482576279,0.027331145746754753,0.1675110741299245,0.034403143140078946,0.04948121675107753,0.1250201192570685,0.06467665652941516,0.029478222935983192,0.12118122533669537,0.0258949338926728,0.01944352818537939,0.282092529269187])'\n",
       "$maxDepth\n",
       ":   5\n",
       "$numTrees\n",
       ":   30\n",
       "\n",
       "\n"
      ],
      "text/plain": [
       "$formula\n",
       "[1] \"taste ~ .\"\n",
       "\n",
       "$numFeatures\n",
       "[1] 12\n",
       "\n",
       "$features\n",
       "$features[[1]]\n",
       "[1] \"id\"\n",
       "\n",
       "$features[[2]]\n",
       "[1] \"fixed_acidity\"\n",
       "\n",
       "$features[[3]]\n",
       "[1] \"volatile_acidity\"\n",
       "\n",
       "$features[[4]]\n",
       "[1] \"citric_acid\"\n",
       "\n",
       "$features[[5]]\n",
       "[1] \"residual_sugar\"\n",
       "\n",
       "$features[[6]]\n",
       "[1] \"chlorides\"\n",
       "\n",
       "$features[[7]]\n",
       "[1] \"free_sulfur_dioxide\"\n",
       "\n",
       "$features[[8]]\n",
       "[1] \"total_sulfur_dioxide\"\n",
       "\n",
       "$features[[9]]\n",
       "[1] \"density\"\n",
       "\n",
       "$features[[10]]\n",
       "[1] \"pH\"\n",
       "\n",
       "$features[[11]]\n",
       "[1] \"sulphates\"\n",
       "\n",
       "$features[[12]]\n",
       "[1] \"alcohol\"\n",
       "\n",
       "\n",
       "$featureImportances\n",
       "[1] \"(12,[0,1,2,3,4,5,6,7,8,9,10,11],[0.05348620482576279,0.027331145746754753,0.1675110741299245,0.034403143140078946,0.04948121675107753,0.1250201192570685,0.06467665652941516,0.029478222935983192,0.12118122533669537,0.0258949338926728,0.01944352818537939,0.282092529269187])\"\n",
       "\n",
       "$maxDepth\n",
       "[1] 5\n",
       "\n",
       "$numTrees\n",
       "[1] 30\n"
      ]
     },
     "metadata": {},
     "output_type": "display_data"
    }
   ],
   "source": [
    "# Train RF model\n",
    "model <- spark.randomForest(train_df, taste ~ ., type=\"classification\", numTrees=30, seed=seed)\n",
    "head(summary(model))"
   ]
  },
  {
   "cell_type": "code",
   "execution_count": 11,
   "metadata": {},
   "outputs": [],
   "source": [
    "# Predict on test data\n",
    "predictions <- predict(model, test_df)\n",
    "prediction_df <- collect(select(predictions, \"id\", \"prediction\"))"
   ]
  },
  {
   "cell_type": "code",
   "execution_count": 12,
   "metadata": {},
   "outputs": [
    {
     "name": "stderr",
     "output_type": "stream",
     "text": [
      "\n",
      "Attaching package: 'dplyr'\n",
      "\n",
      "The following objects are masked from 'package:SparkR':\n",
      "\n",
      "    arrange, between, coalesce, collect, contains, count, cume_dist,\n",
      "    dense_rank, desc, distinct, explain, expr, filter, first, group_by,\n",
      "    intersect, lag, last, lead, mutate, n, n_distinct, ntile,\n",
      "    percent_rank, rename, row_number, sample_frac, select, sql,\n",
      "    summarize, union\n",
      "\n",
      "The following objects are masked from 'package:stats':\n",
      "\n",
      "    filter, lag\n",
      "\n",
      "The following objects are masked from 'package:base':\n",
      "\n",
      "    intersect, setdiff, setequal, union\n",
      "\n"
     ]
    },
    {
     "data": {
      "text/html": [
       "0.616621983914209"
      ],
      "text/latex": [
       "0.616621983914209"
      ],
      "text/markdown": [
       "0.616621983914209"
      ],
      "text/plain": [
       "[1] 0.616622"
      ]
     },
     "metadata": {},
     "output_type": "display_data"
    },
    {
     "data": {
      "text/plain": [
       "         \n",
       "          average bad good\n",
       "  average     443 165   73\n",
       "  bad         163 342    7\n",
       "  good        153  11  135"
      ]
     },
     "metadata": {},
     "output_type": "display_data"
    }
   ],
   "source": [
    "# Evaluate\n",
    "library(dplyr)\n",
    "\n",
    "actual_vs_predicted <- dplyr::inner_join(as.data.frame(sdf), prediction_df, \"id\") %>%\n",
    "    dplyr::select (id, actual=taste, predicted=prediction)\n",
    "mean(actual_vs_predicted$actual == actual_vs_predicted$predicted)\n",
    "table(actual_vs_predicted$actual, actual_vs_predicted$predicted)"
   ]
  },
  {
   "cell_type": "code",
   "execution_count": 13,
   "metadata": {},
   "outputs": [
    {
     "data": {
      "text/html": [
       "<table>\n",
       "<thead><tr><th scope=col>id</th><th scope=col>actual</th><th scope=col>predicted</th></tr></thead>\n",
       "<tbody>\n",
       "\t<tr><td> 5     </td><td>average</td><td>average</td></tr>\n",
       "\t<tr><td> 6     </td><td>average</td><td>bad    </td></tr>\n",
       "\t<tr><td> 8     </td><td>average</td><td>bad    </td></tr>\n",
       "\t<tr><td> 9     </td><td>average</td><td>bad    </td></tr>\n",
       "\t<tr><td>16     </td><td>good   </td><td>good   </td></tr>\n",
       "\t<tr><td>17     </td><td>average</td><td>bad    </td></tr>\n",
       "</tbody>\n",
       "</table>\n"
      ],
      "text/latex": [
       "\\begin{tabular}{r|lll}\n",
       " id & actual & predicted\\\\\n",
       "\\hline\n",
       "\t  5      & average & average\\\\\n",
       "\t  6      & average & bad    \\\\\n",
       "\t  8      & average & bad    \\\\\n",
       "\t  9      & average & bad    \\\\\n",
       "\t 16      & good    & good   \\\\\n",
       "\t 17      & average & bad    \\\\\n",
       "\\end{tabular}\n"
      ],
      "text/markdown": [
       "\n",
       "id | actual | predicted | \n",
       "|---|---|---|---|---|---|\n",
       "|  5      | average | average | \n",
       "|  6      | average | bad     | \n",
       "|  8      | average | bad     | \n",
       "|  9      | average | bad     | \n",
       "| 16      | good    | good    | \n",
       "| 17      | average | bad     | \n",
       "\n",
       "\n"
      ],
      "text/plain": [
       "  id actual  predicted\n",
       "1  5 average average  \n",
       "2  6 average bad      \n",
       "3  8 average bad      \n",
       "4  9 average bad      \n",
       "5 16 good    good     \n",
       "6 17 average bad      "
      ]
     },
     "metadata": {},
     "output_type": "display_data"
    }
   ],
   "source": [
    "# Examine first few rows of actual vs predicted wine quality values\n",
    "head(actual_vs_predicted)"
   ]
  },
  {
   "cell_type": "code",
   "execution_count": 14,
   "metadata": {},
   "outputs": [],
   "source": [
    "# Save model (NOTE:  path must not exist)\n",
    "write.ml(model, \"wine-RF-model\")"
   ]
  },
  {
   "cell_type": "code",
   "execution_count": null,
   "metadata": {},
   "outputs": [],
   "source": []
  }
 ],
 "metadata": {
  "kernelspec": {
   "display_name": "R",
   "language": "R",
   "name": "ir"
  },
  "language_info": {
   "codemirror_mode": "r",
   "file_extension": ".r",
   "mimetype": "text/x-r-source",
   "name": "R",
   "pygments_lexer": "r",
   "version": "4.0.5"
  }
 },
 "nbformat": 4,
 "nbformat_minor": 4
}
