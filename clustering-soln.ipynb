{
 "cells": [
  {
   "cell_type": "code",
   "execution_count": 6,
   "metadata": {
    "collapsed": true,
    "jupyter": {
     "outputs_hidden": true
    }
   },
   "outputs": [],
   "source": [
    "# Load libraries\n",
    "from pyspark.context import SparkContext\n",
    "from pyspark.sql import SQLContext, SparkSession\n",
    "from pyspark.ml.clustering import KMeans\n",
    "from pyspark.ml.feature import VectorAssembler\n",
    "from pyspark.ml.feature import StandardScaler\n",
    "import utils\n",
    "%matplotlib inline"
   ]
  },
  {
   "cell_type": "code",
   "execution_count": 7,
   "metadata": {
    "collapsed": false,
    "jupyter": {
     "outputs_hidden": false
    }
   },
   "outputs": [],
   "source": [
    "# Load minute weather data\n",
    "spark = SparkSession.builder.master(\"local\").appName(\"Word Count\").getOrCreate()\n",
    "\n",
    "sc = SparkContext.getOrCreate()\n",
    "sqlContext = SQLContext(sc)\n",
    "\n",
    "inputfile = \"/srv/jupyterhub/read-only/data/minute_weather.csv\"\n",
    "df = spark.read.load (inputfile, format=\"csv\", inferSchema=\"true\", header=\"true\")"
   ]
  },
  {
   "cell_type": "code",
   "execution_count": 8,
   "metadata": {
    "collapsed": false,
    "jupyter": {
     "outputs_hidden": false
    }
   },
   "outputs": [
    {
     "name": "stdout",
     "output_type": "stream",
     "text": [
      "root\n",
      " |-- rowID: integer (nullable = true)\n",
      " |-- hpwren_timestamp: timestamp (nullable = true)\n",
      " |-- air_pressure: double (nullable = true)\n",
      " |-- air_temp: double (nullable = true)\n",
      " |-- avg_wind_direction: double (nullable = true)\n",
      " |-- avg_wind_speed: double (nullable = true)\n",
      " |-- max_wind_direction: double (nullable = true)\n",
      " |-- max_wind_speed: double (nullable = true)\n",
      " |-- min_wind_direction: double (nullable = true)\n",
      " |-- min_wind_speed: double (nullable = true)\n",
      " |-- rain_accumulation: double (nullable = true)\n",
      " |-- rain_duration: double (nullable = true)\n",
      " |-- relative_humidity: double (nullable = true)\n",
      "\n"
     ]
    }
   ],
   "source": [
    "# Examine schema\n",
    "\n",
    "df.printSchema()"
   ]
  },
  {
   "cell_type": "code",
   "execution_count": 9,
   "metadata": {
    "collapsed": false,
    "jupyter": {
     "outputs_hidden": false
    }
   },
   "outputs": [
    {
     "data": {
      "text/plain": [
       "1587257"
      ]
     },
     "execution_count": 9,
     "metadata": {},
     "output_type": "execute_result"
    }
   ],
   "source": [
    "# Count rows\n",
    "\n",
    "df.count()"
   ]
  },
  {
   "cell_type": "code",
   "execution_count": 10,
   "metadata": {
    "collapsed": false,
    "jupyter": {
     "outputs_hidden": false
    }
   },
   "outputs": [
    {
     "data": {
      "text/plain": [
       "15873"
      ]
     },
     "execution_count": 10,
     "metadata": {},
     "output_type": "execute_result"
    }
   ],
   "source": [
    "# Filter rows \n",
    "\n",
    "filteredDF = df.filter((df.rowID % 100) == 0)\n",
    "filteredDF.count()"
   ]
  },
  {
   "cell_type": "code",
   "execution_count": 11,
   "metadata": {
    "collapsed": false,
    "jupyter": {
     "outputs_hidden": false
    },
    "scrolled": true
   },
   "outputs": [
    {
     "data": {
      "text/html": [
       "<div>\n",
       "<style scoped>\n",
       "    .dataframe tbody tr th:only-of-type {\n",
       "        vertical-align: middle;\n",
       "    }\n",
       "\n",
       "    .dataframe tbody tr th {\n",
       "        vertical-align: top;\n",
       "    }\n",
       "\n",
       "    .dataframe thead th {\n",
       "        text-align: right;\n",
       "    }\n",
       "</style>\n",
       "<table border=\"1\" class=\"dataframe\">\n",
       "  <thead>\n",
       "    <tr style=\"text-align: right;\">\n",
       "      <th></th>\n",
       "      <th>0</th>\n",
       "      <th>1</th>\n",
       "      <th>2</th>\n",
       "      <th>3</th>\n",
       "      <th>4</th>\n",
       "    </tr>\n",
       "  </thead>\n",
       "  <tbody>\n",
       "    <tr>\n",
       "      <th>summary</th>\n",
       "      <td>count</td>\n",
       "      <td>mean</td>\n",
       "      <td>stddev</td>\n",
       "      <td>min</td>\n",
       "      <td>max</td>\n",
       "    </tr>\n",
       "    <tr>\n",
       "      <th>rowID</th>\n",
       "      <td>15873</td>\n",
       "      <td>793600.0</td>\n",
       "      <td>458228.4746717515</td>\n",
       "      <td>0</td>\n",
       "      <td>1587200</td>\n",
       "    </tr>\n",
       "    <tr>\n",
       "      <th>air_pressure</th>\n",
       "      <td>15873</td>\n",
       "      <td>916.8291627291593</td>\n",
       "      <td>3.0517222151797627</td>\n",
       "      <td>905.1</td>\n",
       "      <td>929.4</td>\n",
       "    </tr>\n",
       "    <tr>\n",
       "      <th>air_temp</th>\n",
       "      <td>15873</td>\n",
       "      <td>61.85468909468877</td>\n",
       "      <td>11.835413790821452</td>\n",
       "      <td>32.36</td>\n",
       "      <td>96.44</td>\n",
       "    </tr>\n",
       "    <tr>\n",
       "      <th>avg_wind_direction</th>\n",
       "      <td>15870</td>\n",
       "      <td>161.2875236294896</td>\n",
       "      <td>95.31316129656483</td>\n",
       "      <td>0.0</td>\n",
       "      <td>359.0</td>\n",
       "    </tr>\n",
       "    <tr>\n",
       "      <th>avg_wind_speed</th>\n",
       "      <td>15870</td>\n",
       "      <td>2.792804032766223</td>\n",
       "      <td>2.07050619846002</td>\n",
       "      <td>0.1</td>\n",
       "      <td>20.1</td>\n",
       "    </tr>\n",
       "    <tr>\n",
       "      <th>max_wind_direction</th>\n",
       "      <td>15870</td>\n",
       "      <td>162.70094517958412</td>\n",
       "      <td>92.26960112663168</td>\n",
       "      <td>0.0</td>\n",
       "      <td>359.0</td>\n",
       "    </tr>\n",
       "    <tr>\n",
       "      <th>max_wind_speed</th>\n",
       "      <td>15870</td>\n",
       "      <td>3.4146250787649493</td>\n",
       "      <td>2.4289064068121387</td>\n",
       "      <td>0.1</td>\n",
       "      <td>20.9</td>\n",
       "    </tr>\n",
       "    <tr>\n",
       "      <th>min_wind_direction</th>\n",
       "      <td>15870</td>\n",
       "      <td>166.64429741650915</td>\n",
       "      <td>97.82483630682518</td>\n",
       "      <td>0.0</td>\n",
       "      <td>359.0</td>\n",
       "    </tr>\n",
       "    <tr>\n",
       "      <th>min_wind_speed</th>\n",
       "      <td>15870</td>\n",
       "      <td>2.1522684310018896</td>\n",
       "      <td>1.7581135042599598</td>\n",
       "      <td>0.0</td>\n",
       "      <td>19.5</td>\n",
       "    </tr>\n",
       "    <tr>\n",
       "      <th>rain_accumulation</th>\n",
       "      <td>15872</td>\n",
       "      <td>2.4571572580650005E-4</td>\n",
       "      <td>0.0057790024267639</td>\n",
       "      <td>0.0</td>\n",
       "      <td>0.43</td>\n",
       "    </tr>\n",
       "    <tr>\n",
       "      <th>rain_duration</th>\n",
       "      <td>15872</td>\n",
       "      <td>0.3811743951612903</td>\n",
       "      <td>4.38803609221701</td>\n",
       "      <td>0.0</td>\n",
       "      <td>60.0</td>\n",
       "    </tr>\n",
       "    <tr>\n",
       "      <th>relative_humidity</th>\n",
       "      <td>15873</td>\n",
       "      <td>47.599313299313295</td>\n",
       "      <td>26.194044531313825</td>\n",
       "      <td>1.5</td>\n",
       "      <td>92.9</td>\n",
       "    </tr>\n",
       "  </tbody>\n",
       "</table>\n",
       "</div>"
      ],
      "text/plain": [
       "                        0                      1                   2      3  \\\n",
       "summary             count                   mean              stddev    min   \n",
       "rowID               15873               793600.0   458228.4746717515      0   \n",
       "air_pressure        15873      916.8291627291593  3.0517222151797627  905.1   \n",
       "air_temp            15873      61.85468909468877  11.835413790821452  32.36   \n",
       "avg_wind_direction  15870      161.2875236294896   95.31316129656483    0.0   \n",
       "avg_wind_speed      15870      2.792804032766223    2.07050619846002    0.1   \n",
       "max_wind_direction  15870     162.70094517958412   92.26960112663168    0.0   \n",
       "max_wind_speed      15870     3.4146250787649493  2.4289064068121387    0.1   \n",
       "min_wind_direction  15870     166.64429741650915   97.82483630682518    0.0   \n",
       "min_wind_speed      15870     2.1522684310018896  1.7581135042599598    0.0   \n",
       "rain_accumulation   15872  2.4571572580650005E-4  0.0057790024267639    0.0   \n",
       "rain_duration       15872     0.3811743951612903    4.38803609221701    0.0   \n",
       "relative_humidity   15873     47.599313299313295  26.194044531313825    1.5   \n",
       "\n",
       "                          4  \n",
       "summary                 max  \n",
       "rowID               1587200  \n",
       "air_pressure          929.4  \n",
       "air_temp              96.44  \n",
       "avg_wind_direction    359.0  \n",
       "avg_wind_speed         20.1  \n",
       "max_wind_direction    359.0  \n",
       "max_wind_speed         20.9  \n",
       "min_wind_direction    359.0  \n",
       "min_wind_speed         19.5  \n",
       "rain_accumulation      0.43  \n",
       "rain_duration          60.0  \n",
       "relative_humidity      92.9  "
      ]
     },
     "execution_count": 11,
     "metadata": {},
     "output_type": "execute_result"
    }
   ],
   "source": [
    "# Show summary statistics\n",
    "\n",
    "filteredDF.describe().toPandas().transpose()"
   ]
  },
  {
   "cell_type": "code",
   "execution_count": 12,
   "metadata": {
    "collapsed": false,
    "jupyter": {
     "outputs_hidden": false
    }
   },
   "outputs": [
    {
     "data": {
      "text/plain": [
       "15869"
      ]
     },
     "execution_count": 12,
     "metadata": {},
     "output_type": "execute_result"
    }
   ],
   "source": [
    "# Drop null data\n",
    "\n",
    "workingDF = filteredDF.na.drop()\n",
    "workingDF.count()"
   ]
  },
  {
   "cell_type": "code",
   "execution_count": 13,
   "metadata": {
    "collapsed": true,
    "jupyter": {
     "outputs_hidden": true
    }
   },
   "outputs": [],
   "source": [
    "# Create feature vector\n",
    "\n",
    "featuresUsed = ['air_pressure', 'air_temp', 'avg_wind_direction', 'avg_wind_speed', 'max_wind_direction', \n",
    "        'max_wind_speed','relative_humidity']\n",
    "assembler = VectorAssembler(inputCols=featuresUsed, outputCol=\"features_unscaled\")\n",
    "assembled = assembler.transform(workingDF)"
   ]
  },
  {
   "cell_type": "code",
   "execution_count": 14,
   "metadata": {
    "collapsed": true,
    "jupyter": {
     "outputs_hidden": true
    }
   },
   "outputs": [],
   "source": [
    "# Scale data\n",
    "\n",
    "scaler = StandardScaler(inputCol=\"features_unscaled\", outputCol=\"features\", withStd=True, withMean=True)\n",
    "scalerModel = scaler.fit(assembled)\n",
    "scaledData = scalerModel.transform(assembled)"
   ]
  },
  {
   "cell_type": "code",
   "execution_count": 15,
   "metadata": {
    "collapsed": false,
    "jupyter": {
     "outputs_hidden": false
    }
   },
   "outputs": [
    {
     "data": {
      "text/plain": [
       "5289"
      ]
     },
     "execution_count": 15,
     "metadata": {},
     "output_type": "execute_result"
    }
   ],
   "source": [
    "# Use one-third data for elbow plot\n",
    "\n",
    "scaledData = scaledData.select(\"features\", \"rowID\")\n",
    "\n",
    "elbowset = scaledData.filter((scaledData.rowID % 3) == 0).select(\"features\")\n",
    "elbowset.persist()\n",
    "elbowset.count()"
   ]
  },
  {
   "cell_type": "code",
   "execution_count": 16,
   "metadata": {
    "collapsed": false,
    "jupyter": {
     "outputs_hidden": false
    }
   },
   "outputs": [
    {
     "name": "stdout",
     "output_type": "stream",
     "text": [
      "Training for cluster size 5 \n",
      "......................WSSE = 8804.694339031907 \n",
      "Training for cluster size 6 \n",
      "......................WSSE = 8525.480223872479 \n",
      "Training for cluster size 7 \n",
      "......................WSSE = 8250.724863437203 \n",
      "Training for cluster size 8 \n",
      "......................WSSE = 7848.19734934203 \n",
      "Training for cluster size 9 \n",
      "......................WSSE = 7570.8780978830055 \n",
      "Training for cluster size 10 \n",
      "......................WSSE = 7329.067961103764 \n",
      "Training for cluster size 11 \n",
      "......................WSSE = 7177.965311120956 \n",
      "Training for cluster size 12 \n",
      "......................WSSE = 7065.723853555635 \n",
      "Training for cluster size 13 \n",
      "......................WSSE = 7082.4094400840595 \n",
      "Training for cluster size 14 \n",
      "......................WSSE = 6802.849359722116 \n",
      "Training for cluster size 15 \n",
      "......................WSSE = 6679.158807094141 \n",
      "Training for cluster size 16 \n",
      "......................WSSE = 6748.620942357968 \n",
      "Training for cluster size 17 \n",
      "......................WSSE = 6528.072121516723 \n",
      "Training for cluster size 18 \n",
      "......................WSSE = 6400.743795027434 \n",
      "Training for cluster size 19 \n",
      "......................WSSE = 6332.101590011742 \n"
     ]
    }
   ],
   "source": [
    "# Generate clusters for elbow plot\n",
    "\n",
    "clusters = range(5,20)\n",
    "wsseList = utils.elbow(elbowset, clusters)"
   ]
  },
  {
   "cell_type": "code",
   "execution_count": 17,
   "metadata": {
    "collapsed": false,
    "jupyter": {
     "outputs_hidden": false
    }
   },
   "outputs": [
    {
     "data": {
      "image/png": "[encoded data removed]",
      "text/plain": [
       "<Figure size 1080x720 with 1 Axes>"
      ]
     },
     "metadata": {
      "needs_background": "light"
     },
     "output_type": "display_data"
    }
   ],
   "source": [
    "# Show elbow plot\n",
    "\n",
    "utils.elbow_plot(wsseList, clusters)"
   ]
  },
  {
   "cell_type": "code",
   "execution_count": null,
   "metadata": {
    "collapsed": true,
    "jupyter": {
     "outputs_hidden": true
    }
   },
   "outputs": [],
   "source": [
    "# Run KMeans for k = 12\n",
    "\n",
    "scaledDataFeat = scaledData.select(\"features\")\n",
    "scaledDataFeat.persist()\n",
    "\n",
    "kmeans = KMeans(k=12, seed=1)\n",
    "model = kmeans.fit(scaledDataFeat)\n",
    "transformed = model.transform(scaledDataFeat)"
   ]
  },
  {
   "cell_type": "code",
   "execution_count": null,
   "metadata": {
    "collapsed": false,
    "jupyter": {
     "outputs_hidden": false
    },
    "scrolled": true
   },
   "outputs": [],
   "source": [
    "# Compute cluster centers\n",
    "\n",
    "centers = model.clusterCenters()\n",
    "P = utils.pd_centers(featuresUsed, centers)\n",
    "centers"
   ]
  },
  {
   "cell_type": "markdown",
   "metadata": {},
   "source": [
    "## Dry Days"
   ]
  },
  {
   "cell_type": "code",
   "execution_count": null,
   "metadata": {
    "collapsed": false,
    "jupyter": {
     "outputs_hidden": false
    }
   },
   "outputs": [],
   "source": [
    "utils.parallel_plot(P[P['relative_humidity'] < -0.5], P)"
   ]
  },
  {
   "cell_type": "markdown",
   "metadata": {},
   "source": [
    "## Humid Days"
   ]
  },
  {
   "cell_type": "code",
   "execution_count": null,
   "metadata": {
    "collapsed": false,
    "jupyter": {
     "outputs_hidden": false
    }
   },
   "outputs": [],
   "source": [
    "utils.parallel_plot(P[P['relative_humidity'] > 0.5], P)"
   ]
  },
  {
   "cell_type": "markdown",
   "metadata": {},
   "source": [
    "## Hot Days"
   ]
  },
  {
   "cell_type": "code",
   "execution_count": null,
   "metadata": {
    "collapsed": false,
    "jupyter": {
     "outputs_hidden": false
    }
   },
   "outputs": [],
   "source": [
    "utils.parallel_plot(P[P['air_temp'] > 0.5], P)"
   ]
  },
  {
   "cell_type": "markdown",
   "metadata": {},
   "source": [
    "## Cool Days"
   ]
  },
  {
   "cell_type": "code",
   "execution_count": null,
   "metadata": {
    "collapsed": false,
    "jupyter": {
     "outputs_hidden": false
    }
   },
   "outputs": [],
   "source": [
    "utils.parallel_plot(P[P['air_temp'] < -0.5], P)"
   ]
  },
  {
   "cell_type": "code",
   "execution_count": null,
   "metadata": {
    "collapsed": true,
    "jupyter": {
     "outputs_hidden": true
    }
   },
   "outputs": [],
   "source": []
  }
 ],
 "metadata": {
  "kernelspec": {
   "display_name": "Python 3",
   "language": "python",
   "name": "python3"
  },
  "language_info": {
   "codemirror_mode": {
    "name": "ipython",
    "version": 3
   },
   "file_extension": ".py",
   "mimetype": "text/x-python",
   "name": "python",
   "nbconvert_exporter": "python",
   "pygments_lexer": "ipython3",
   "version": "3.8.5"
  }
 },
 "nbformat": 4,
 "nbformat_minor": 4
}
